{
 "cells": [
  {
   "cell_type": "code",
   "execution_count": 1,
   "id": "43b7fd12-43e5-4c40-90bd-041c42d82c82",
   "metadata": {},
   "outputs": [],
   "source": [
    "import numpy as np\n",
    "import pandas as pd\n",
    "\n",
    "import matplotlib.pyplot as plt\n",
    "import seaborn as sns\n",
    "%matplotlib inline\n",
    "from sklearn.model_selection import train_test_split\n"
   ]
  },
  {
   "cell_type": "code",
   "execution_count": 3,
   "id": "f1329e47-f433-4930-ae4b-53e8c7474ecc",
   "metadata": {},
   "outputs": [],
   "source": [
    "df = pd.read_csv(\"winequality-red.csv\")"
   ]
  },
  {
   "cell_type": "code",
   "execution_count": 4,
   "id": "5274282c-d1c9-4bd8-9e41-cba3d76e7ea7",
   "metadata": {},
   "outputs": [
    {
     "name": "stdout",
     "output_type": "stream",
     "text": [
      "   fixed acidity  volatile acidity  citric acid  residual sugar  chlorides  \\\n",
      "0            7.4              0.70         0.00             1.9      0.076   \n",
      "1            7.8              0.88         0.00             2.6      0.098   \n",
      "2            7.8              0.76         0.04             2.3      0.092   \n",
      "3           11.2              0.28         0.56             1.9      0.075   \n",
      "4            7.4              0.70         0.00             1.9      0.076   \n",
      "\n",
      "   free sulfur dioxide  total sulfur dioxide  density    pH  sulphates  \\\n",
      "0                 11.0                  34.0   0.9978  3.51       0.56   \n",
      "1                 25.0                  67.0   0.9968  3.20       0.68   \n",
      "2                 15.0                  54.0   0.9970  3.26       0.65   \n",
      "3                 17.0                  60.0   0.9980  3.16       0.58   \n",
      "4                 11.0                  34.0   0.9978  3.51       0.56   \n",
      "\n",
      "   alcohol  quality  \n",
      "0      9.4        5  \n",
      "1      9.8        5  \n",
      "2      9.8        5  \n",
      "3      9.8        6  \n",
      "4      9.4        5  \n"
     ]
    }
   ],
   "source": [
    "print(df.head())"
   ]
  },
  {
   "cell_type": "code",
   "execution_count": 5,
   "id": "190c866d-5687-4dd6-a661-08956b410ce4",
   "metadata": {},
   "outputs": [
    {
     "name": "stdout",
     "output_type": "stream",
     "text": [
      "<class 'pandas.core.frame.DataFrame'>\n",
      "RangeIndex: 1599 entries, 0 to 1598\n",
      "Data columns (total 12 columns):\n",
      " #   Column                Non-Null Count  Dtype  \n",
      "---  ------                --------------  -----  \n",
      " 0   fixed acidity         1599 non-null   float64\n",
      " 1   volatile acidity      1599 non-null   float64\n",
      " 2   citric acid           1599 non-null   float64\n",
      " 3   residual sugar        1599 non-null   float64\n",
      " 4   chlorides             1599 non-null   float64\n",
      " 5   free sulfur dioxide   1599 non-null   float64\n",
      " 6   total sulfur dioxide  1599 non-null   float64\n",
      " 7   density               1599 non-null   float64\n",
      " 8   pH                    1599 non-null   float64\n",
      " 9   sulphates             1599 non-null   float64\n",
      " 10  alcohol               1599 non-null   float64\n",
      " 11  quality               1599 non-null   int64  \n",
      "dtypes: float64(11), int64(1)\n",
      "memory usage: 150.0 KB\n"
     ]
    }
   ],
   "source": [
    "df.info()"
   ]
  },
  {
   "cell_type": "code",
   "execution_count": 11,
   "id": "e31bf7fc-67df-4fd5-9f69-ad6a79d60576",
   "metadata": {},
   "outputs": [],
   "source": [
    "def scale(X):\n",
    "    \"\"\"\n",
    "    Standardizes the data in the array X.\n",
    "\n",
    "    Parameters:\n",
    "        X (numpy.ndarray): Features array of shape (n_samples, n_features).\n",
    "\n",
    "    Returns:\n",
    "        numpy.ndarray: The standardized features array.\n",
    "    \"\"\"\n",
    "    # Calculate the mean and standard deviation of each feature\n",
    "    mean = np.mean(X, axis=0)\n",
    "    std = np.std(X, axis=0)\n",
    "\n",
    "    # Standardize the data\n",
    "    X = (X - mean) / std\n",
    "\n",
    "    return X"
   ]
  },
  {
   "cell_type": "code",
   "execution_count": null,
   "id": "042503cf-d0c7-4dd4-b226-14eb705fde75",
   "metadata": {},
   "outputs": [],
   "source": []
  },
  {
   "cell_type": "code",
   "execution_count": 12,
   "id": "077cfc70-8edd-4886-9114-e0f6515d2f0e",
   "metadata": {},
   "outputs": [],
   "source": [
    "X = df.iloc[:,:-1].values\n",
    "y = df.iloc[:,-1].values.reshape(-1,1)\n",
    "X = scale(X)\n",
    "X_train, X_test, y_train, y_test = train_test_split(X, y, train_size=0.8, random_state = 80)"
   ]
  },
  {
   "cell_type": "code",
   "execution_count": 13,
   "id": "bce87b10-b9b6-4e86-b684-4cb35186b169",
   "metadata": {},
   "outputs": [
    {
     "name": "stdout",
     "output_type": "stream",
     "text": [
      "[[-0.01128221  0.48702616 -0.26176211 ... -0.33117661 -0.28414114\n",
      "  -1.05411336]\n",
      " [ 0.56324823  0.71048523 -0.05636026 ... -0.39596939 -1.4053896\n",
      "  -0.77251161]\n",
      " [-0.47090657 -0.15541864  0.45714436 ...  0.25195842  0.83710732\n",
      "   0.07229363]\n",
      " ...\n",
      " [-0.98798397  0.45909378 -1.34012182 ...  2.45491298  0.42401579\n",
      "   0.07229363]\n",
      " [-0.87307788  0.68255284 -1.28877135 ...  0.25195842 -0.22512806\n",
      "  -0.02157362]\n",
      " [-0.24109439  0.29149948 -0.21041165 ... -0.65514052 -0.46118037\n",
      "  -0.86637886]]\n",
      "[[5]\n",
      " [5]\n",
      " [5]\n",
      " ...\n",
      " [5]\n",
      " [6]\n",
      " [6]]\n"
     ]
    },
    {
     "data": {
      "text/plain": [
       "(None, None)"
      ]
     },
     "execution_count": 13,
     "metadata": {},
     "output_type": "execute_result"
    }
   ],
   "source": [
    "print(X_train), print(y_train)"
   ]
  },
  {
   "cell_type": "code",
   "execution_count": 14,
   "id": "653047ba-55a3-4308-8ad3-bb1cd5316f23",
   "metadata": {},
   "outputs": [],
   "source": [
    "class Node():\n",
    "    def __init__(self, feature = None,threshold = None, left = None, right = None, gain = None, value = None):\n",
    "        self.feature = feature\n",
    "        self.threshold = threshold\n",
    "        self.left = left\n",
    "        self.right = right\n",
    "        self.gain = gain\n",
    "        self.value = value"
   ]
  },
  {
   "cell_type": "code",
   "execution_count": 15,
   "id": "76c4d148-33e2-4f4b-b3a7-9764abe8fc3b",
   "metadata": {},
   "outputs": [],
   "source": [
    "class Decision_tree():\n",
    "    def __init__(self, min_samples=2, max_depth=2):\n",
    "        self.min_samples = min_samples\n",
    "        self.max_depth = max_depth\n",
    "        \n",
    "    def split_Node(self, dataset, feature, threshold):\n",
    "        left_node = []\n",
    "        right_node = []\n",
    "        for row in dataset:\n",
    "            if row[feature] <= threshold:\n",
    "                left_node.append(row)\n",
    "            else:\n",
    "                right_node.append(row)\n",
    "        left_node = np.array(left_node)\n",
    "        right_node = np.array(right_node)\n",
    "        return left_node, right_node\n",
    "    def compute_information_gain(self, parent, left, right):\n",
    "        in_gain = np.var(parent) - (len(left) / len(parent)) * np.var(left) - (len(right) / len(parent)) * np.var(right)\n",
    "        return in_gain\n",
    "    def find_best_split(self, dataset, num_features):\n",
    "        best_split = { 'gain': -1, 'feature': None, 'threshold': None}\n",
    "        for feature in range(num_features):\n",
    "            thresholds = np.unique(dataset[:, feature])\n",
    "            for i in thresholds:\n",
    "                left_dataset, right_dataset = self.split_Node( dataset, feature, i)\n",
    "                if len(left_dataset) and len(right_dataset):\n",
    "                    y, left_check, right_check = dataset[:,-1],left_dataset[:,-1], right_dataset[:,-1]\n",
    "                    ig = self.compute_information_gain(y, left_check, right_check)\n",
    "                    if ig >best_split['gain']:\n",
    "                        best_split[\"gain\"] = ig\n",
    "                        best_split[\"feature\"] = feature\n",
    "                        best_split[\"threshold\"]  = i\n",
    "                        best_split[\"left_dataset\"] = left_dataset\n",
    "                        best_split[\"right_dataset\"] = right_dataset\n",
    "        return best_split\n",
    "    def caculate_leaf_val(self, y):\n",
    "        value = y.mean()\n",
    "        return value\n",
    "    def build_tree(self, dataset, cur_depth = 0):\n",
    "        X,y = dataset[:, :-1], dataset[:,-1]\n",
    "        n_samples, n_features = X.shape\n",
    "        if cur_depth <= self.max_depth and n_samples >= self.min_samples:\n",
    "            best_split = self.find_best_split(dataset, n_features)\n",
    "            if best_split[\"gain\"]:\n",
    "                left_node = self.build_tree(best_split[\"left_dataset\"], cur_depth + 1)\n",
    "                right_node = self.build_tree(best_split[\"right_dataset\"], cur_depth + 1)\n",
    "                return Node(best_split[\"feature\"], best_split[\"threshold\"], left_node, \n",
    "                            right_node, best_split[\"gain\"]) \n",
    "        leaf_value = self.caculate_leaf_val(y)\n",
    "        return Node(value = leaf_value)\n",
    "    def fit(self, X, y):\n",
    "        dataset = np.concatenate((X,y), axis=1)\n",
    "        self.root = self.build_tree(dataset)\n",
    "    def make_predict(self, X, node):\n",
    "        if node.value != None:\n",
    "            return node.value\n",
    "       \n",
    "        feature = node.feature\n",
    "        if X[feature] <= node.threshold:\n",
    "            return self.make_predict(X, node.left)\n",
    "        else:\n",
    "            return self.make_predict(X, node.right)\n",
    "    def predict(self, X):\n",
    "        prediction = []\n",
    "        for i in X:\n",
    "            yhat = self.make_predict(i, self.root)\n",
    "            prediction.append(yhat)\n",
    "        np.array(prediction)\n",
    "        return prediction"
   ]
  },
  {
   "cell_type": "code",
   "execution_count": 16,
   "id": "a148c7ed-6079-49c7-b5f7-0c2d403ca838",
   "metadata": {},
   "outputs": [],
   "source": [
    "model = Decision_tree()\n",
    "model.fit(X_train, y_train)"
   ]
  },
  {
   "cell_type": "code",
   "execution_count": 17,
   "id": "3a7c6d45-45cb-40c3-a966-786e49c58094",
   "metadata": {},
   "outputs": [
    {
     "ename": "AttributeError",
     "evalue": "'numpy.ndarray' object has no attribute 'iloc'",
     "output_type": "error",
     "traceback": [
      "\u001b[1;31m---------------------------------------------------------------------------\u001b[0m",
      "\u001b[1;31mAttributeError\u001b[0m                            Traceback (most recent call last)",
      "Cell \u001b[1;32mIn[17], line 1\u001b[0m\n\u001b[1;32m----> 1\u001b[0m yhat \u001b[38;5;241m=\u001b[39m \u001b[43mmodel\u001b[49m\u001b[38;5;241;43m.\u001b[39;49m\u001b[43mpredict\u001b[49m\u001b[43m(\u001b[49m\u001b[43mX_test\u001b[49m\u001b[43m)\u001b[49m\n",
      "Cell \u001b[1;32mIn[15], line 66\u001b[0m, in \u001b[0;36mDecision_tree.predict\u001b[1;34m(self, X)\u001b[0m\n\u001b[0;32m     64\u001b[0m prediction \u001b[38;5;241m=\u001b[39m []\n\u001b[0;32m     65\u001b[0m \u001b[38;5;28;01mfor\u001b[39;00m i \u001b[38;5;129;01min\u001b[39;00m \u001b[38;5;28mrange\u001b[39m(\u001b[38;5;28mlen\u001b[39m(X)):\n\u001b[1;32m---> 66\u001b[0m     x \u001b[38;5;241m=\u001b[39m \u001b[43mX\u001b[49m\u001b[38;5;241;43m.\u001b[39;49m\u001b[43miloc\u001b[49m[i]\n\u001b[0;32m     67\u001b[0m     yhat \u001b[38;5;241m=\u001b[39m \u001b[38;5;28mself\u001b[39m\u001b[38;5;241m.\u001b[39mmake_predict(x, \u001b[38;5;28mself\u001b[39m\u001b[38;5;241m.\u001b[39mroot)\n\u001b[0;32m     68\u001b[0m     prediction\u001b[38;5;241m.\u001b[39mappend(yhat)\n",
      "\u001b[1;31mAttributeError\u001b[0m: 'numpy.ndarray' object has no attribute 'iloc'"
     ]
    }
   ],
   "source": [
    "yhat = model.predict(X_test)"
   ]
  },
  {
   "cell_type": "code",
   "execution_count": null,
   "id": "9be308e7-74ed-45d9-a5b2-4481c7f8c6d2",
   "metadata": {},
   "outputs": [],
   "source": []
  }
 ],
 "metadata": {
  "kernelspec": {
   "display_name": "Python 3 (ipykernel)",
   "language": "python",
   "name": "python3"
  },
  "language_info": {
   "codemirror_mode": {
    "name": "ipython",
    "version": 3
   },
   "file_extension": ".py",
   "mimetype": "text/x-python",
   "name": "python",
   "nbconvert_exporter": "python",
   "pygments_lexer": "ipython3",
   "version": "3.10.10"
  }
 },
 "nbformat": 4,
 "nbformat_minor": 5
}
